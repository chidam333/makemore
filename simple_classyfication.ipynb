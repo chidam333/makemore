{
 "cells": [
  {
   "cell_type": "code",
   "execution_count": 501,
   "id": "eecf2cc1-9beb-4ab9-b512-fe3969cad35f",
   "metadata": {
    "tags": []
   },
   "outputs": [
    {
     "data": {
      "text/plain": [
       "torch.Size([100, 2])"
      ]
     },
     "execution_count": 501,
     "metadata": {},
     "output_type": "execute_result"
    },
    {
     "data": {
      "image/png": "[encoded data removed]",
      "text/plain": [
       "<Figure size 400x400 with 1 Axes>"
      ]
     },
     "metadata": {},
     "output_type": "display_data"
    }
   ],
   "source": [
    "# trying to make a binary classifier\n",
    "\n",
    "import torch\n",
    "import matplotlib.pyplot as plt\n",
    "import torch.nn.functional as F\n",
    "%matplotlib inline\n",
    "red = torch.randn((50,2)) + 3\n",
    "blue = torch.randn((50,2))\n",
    "x_val[:10], y_val[:10]\n",
    "plt.figure(figsize = (4,4))\n",
    "plt.scatter(red[:,0],red[:,1],c=\"red\")\n",
    "plt.scatter(blue[:,0],blue[:,1],c=\"blue\")\n",
    "\n",
    "\n",
    "inp = []\n",
    "out = []\n",
    "for i in range(50):\n",
    "    inp.extend([[red[i][0].item(),red[i][1].item()],[blue[i][0].item(),blue[i][1].item()]])\n",
    "    out.extend([1,0])\n",
    "inp = torch.tensor(inp)\n",
    "out = torch.tensor(out)\n",
    "\n",
    "W = torch.randn((2,2),requires_grad = True)\n",
    "inp.shape"
   ]
  },
  {
   "cell_type": "code",
   "execution_count": 540,
   "id": "ee93dd85-92ef-42de-bd66-f98dbb71d66e",
   "metadata": {
    "tags": []
   },
   "outputs": [
    {
     "name": "stdout",
     "output_type": "stream",
     "text": [
      "loss = 0.4087561070919037\n"
     ]
    },
    {
     "data": {
      "text/plain": [
       "tensor(1., grad_fn=<SumBackward0>)"
      ]
     },
     "execution_count": 540,
     "metadata": {},
     "output_type": "execute_result"
    }
   ],
   "source": [
    "logits = inp @ W\n",
    "# logits = torch.zeros((len(inp),2),requires_grad = True)\n",
    "# for i in range(len(inp)):\n",
    "#     logit = inp[i] @ W[i].view(1,2)\n",
    "#     logits[i] = (torch.tensor([logit[:,0].sum(),logit[:,1].sum()]))\n",
    "counts = logits.exp()\n",
    "prob = counts/counts.sum(1,keepdim = True)\n",
    "loss = -prob[torch.arange(len(inp)),out].log().mean()\n",
    "print(f'loss = {loss}')\n",
    "W.grad = None\n",
    "loss.backward()\n",
    "W.data += -.1 * W.grad\n",
    "prob[0].sum()"
   ]
  },
  {
   "cell_type": "code",
   "execution_count": 556,
   "id": "d3bf2827-e59e-4eb9-9b27-a2647922823b",
   "metadata": {
    "tags": []
   },
   "outputs": [
    {
     "name": "stdout",
     "output_type": "stream",
     "text": [
      "prob of being red : 0.7184063792228699\n",
      "prob of being red : 0.4904993772506714\n",
      "prob of being red : 0.7374206781387329\n",
      "prob of being red : 0.39893776178359985\n",
      "prob of being red : 0.7736062407493591\n",
      "prob of being red : 0.620456874370575\n",
      "prob of being red : 0.38174280524253845\n",
      "prob of being red : 0.358731746673584\n",
      "prob of being red : 0.31792157888412476\n",
      "prob of being red : 0.677064836025238\n",
      "prob of being red : 0.08945132046937943\n",
      "prob of being red : 0.6613631844520569\n",
      "prob of being red : 0.5167622566223145\n",
      "prob of being red : 0.7519296407699585\n",
      "prob of being red : 0.32568517327308655\n",
      "prob of being red : 0.375626802444458\n",
      "prob of being red : 0.7171532511711121\n",
      "prob of being red : 0.1603577733039856\n",
      "prob of being red : 0.7594783306121826\n",
      "prob of being red : 0.3397659659385681\n",
      "prob of being red : 0.5785143971443176\n",
      "prob of being red : 0.6480398178100586\n",
      "prob of being red : 0.24690178036689758\n",
      "prob of being red : 0.7170006632804871\n",
      "prob of being red : 0.7580345869064331\n",
      "prob of being red : 0.6109569668769836\n",
      "prob of being red : 0.27476373314857483\n",
      "prob of being red : 0.5028328895568848\n",
      "prob of being red : 0.2146180123090744\n",
      "prob of being red : 0.457465797662735\n",
      "prob of being red : 0.6215437650680542\n",
      "prob of being red : 0.4350895881652832\n",
      "prob of being red : 0.20058925449848175\n",
      "prob of being red : 0.6733787655830383\n",
      "prob of being red : 0.2802489995956421\n",
      "prob of being red : 0.5876425504684448\n",
      "prob of being red : 0.7847266793251038\n",
      "prob of being red : 0.3435174226760864\n",
      "prob of being red : 0.5749738216400146\n",
      "prob of being red : 0.6953734755516052\n",
      "prob of being red : 0.7001373171806335\n",
      "prob of being red : 0.676939845085144\n",
      "prob of being red : 0.18297256529331207\n",
      "prob of being red : 0.553100049495697\n",
      "prob of being red : 0.423598974943161\n",
      "prob of being red : 0.6566606760025024\n",
      "prob of being red : 0.6762612462043762\n",
      "prob of being red : 0.6369197964668274\n",
      "prob of being red : 0.4711288809776306\n",
      "prob of being red : 0.3511810302734375\n"
     ]
    },
    {
     "name": "stderr",
     "output_type": "stream",
     "text": [
      "C:\\Users\\chida\\AppData\\Local\\Temp\\ipykernel_11340\\3368310876.py:3: UserWarning: To copy construct from a tensor, it is recommended to use sourceTensor.clone().detach() or sourceTensor.clone().detach().requires_grad_(True), rather than torch.tensor(sourceTensor).\n",
      "  inp_test = torch.tensor(blue).float()\n"
     ]
    }
   ],
   "source": [
    "# red = torch.randn((50,2)) + 3\n",
    "blue = torch.randn((50,2))\n",
    "inp_test = torch.tensor(blue).float()\n",
    "logits = inp_test @ W\n",
    "counts = logits.exp()\n",
    "prob = counts/counts.sum(1,keepdim = True)\n",
    "\n",
    "for ele in prob: \n",
    "    # print(f'prob of being blue : {ele[0]}')\n",
    "    print(f'prob of being red : {ele[1]}')"
   ]
  }
 ],
 "metadata": {
  "kernelspec": {
   "display_name": "Python 3 (ipykernel)",
   "language": "python",
   "name": "python3"
  },
  "language_info": {
   "codemirror_mode": {
    "name": "ipython",
    "version": 3
   },
   "file_extension": ".py",
   "mimetype": "text/x-python",
   "name": "python",
   "nbconvert_exporter": "python",
   "pygments_lexer": "ipython3",
   "version": "3.11.2"
  }
 },
 "nbformat": 4,
 "nbformat_minor": 5
}
