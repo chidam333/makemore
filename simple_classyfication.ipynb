{
 "cells": [
  {
   "cell_type": "code",
   "execution_count": 163,
   "id": "eecf2cc1-9beb-4ab9-b512-fe3969cad35f",
   "metadata": {
    "tags": []
   },
   "outputs": [
    {
     "data": {
      "text/plain": [
       "(torch.Size([2, 100]), torch.Size([100]))"
      ]
     },
     "execution_count": 163,
     "metadata": {},
     "output_type": "execute_result"
    },
    {
     "data": {
      "image/png": "[encoded data removed]",
      "text/plain": [
       "<Figure size 400x400 with 1 Axes>"
      ]
     },
     "metadata": {},
     "output_type": "display_data"
    }
   ],
   "source": [
    "# trying to make a binary classifier\n",
    "\n",
    "import torch\n",
    "import matplotlib.pyplot as plt\n",
    "import torch.nn.functional as F\n",
    "%matplotlib inline\n",
    "red = torch.randn((50,2)) + 3\n",
    "blue = torch.randn((50,2))\n",
    "plt.figure(figsize = (4,4))\n",
    "plt.scatter(red[:,0],red[:,1],c=\"red\")\n",
    "plt.scatter(blue[:,0],blue[:,1],c=\"blue\")\n",
    "\n",
    "\n",
    "# inp = []\n",
    "# out = []\n",
    "# for i in range(50):\n",
    "#     inp.extend([[red[i][0].item(),red[i][1].item()],[blue[i][0].item(),blue[i][1].item()]])\n",
    "#     out.extend([1,-1])\n",
    "# inp = torch.tensor(inp)\n",
    "# out = torch.tensor(out)\n",
    "\n",
    "inp = torch.cat([red[:,0],blue[:,0]])\n",
    "inp = torch.stack((inp,torch.cat([red[:,1],blue[:,1]])))\n",
    "out = torch.cat((torch.ones(50),torch.zeros(50))).int()\n",
    "                  \n",
    "W = torch.randn((2,2),requires_grad = True)\n",
    "inp.shape , out.shape"
   ]
  },
  {
   "cell_type": "code",
   "execution_count": 261,
   "id": "ee93dd85-92ef-42de-bd66-f98dbb71d66e",
   "metadata": {
    "tags": []
   },
   "outputs": [
    {
     "name": "stdout",
     "output_type": "stream",
     "text": [
      "loss = 0.4408482611179352\n"
     ]
    }
   ],
   "source": [
    "logits = W @ inp\n",
    "counts = logits.exp()\n",
    "prob = counts/counts.sum(0,keepdim = True)\n",
    "out.dtype\n",
    "loss = -prob[out,torch.arange(len(inp[0]))].log().mean()\n",
    "print(f'loss = {loss}')\n",
    "W.grad = None\n",
    "loss.backward()\n",
    "W.data += -.3 * W.grad"
   ]
  },
  {
   "cell_type": "code",
   "execution_count": 276,
   "id": "d3bf2827-e59e-4eb9-9b27-a2647922823b",
   "metadata": {
    "tags": []
   },
   "outputs": [
    {
     "name": "stdout",
     "output_type": "stream",
     "text": [
      "prob of being blue : 0.3249932825565338\n",
      "prob of being blue : 0.6343984007835388\n",
      "prob of being blue : 0.35067591071128845\n",
      "prob of being blue : 0.5359085202217102\n",
      "prob of being blue : 0.4749571979045868\n",
      "prob of being blue : 0.7239483594894409\n",
      "prob of being blue : 0.6570011973381042\n",
      "prob of being blue : 0.5554789900779724\n",
      "prob of being blue : 0.5700610280036926\n",
      "prob of being blue : 0.7213960886001587\n",
      "prob of being blue : 0.5896466970443726\n",
      "prob of being blue : 0.42882058024406433\n",
      "prob of being blue : 0.5486883521080017\n",
      "prob of being blue : 0.5197186470031738\n",
      "prob of being blue : 0.3846083879470825\n",
      "prob of being blue : 0.42897945642471313\n",
      "prob of being blue : 0.4901905357837677\n",
      "prob of being blue : 0.7266866564750671\n",
      "prob of being blue : 0.5579649806022644\n",
      "prob of being blue : 0.49613526463508606\n",
      "prob of being blue : 0.6158946752548218\n",
      "prob of being blue : 0.6284347772598267\n",
      "prob of being blue : 0.5588409304618835\n",
      "prob of being blue : 0.45137956738471985\n",
      "prob of being blue : 0.478472501039505\n",
      "prob of being blue : 0.6291175484657288\n",
      "prob of being blue : 0.2675682306289673\n",
      "prob of being blue : 0.5164210796356201\n",
      "prob of being blue : 0.5187647938728333\n",
      "prob of being blue : 0.42485493421554565\n",
      "prob of being blue : 0.509319007396698\n",
      "prob of being blue : 0.7204681038856506\n",
      "prob of being blue : 0.486990362405777\n",
      "prob of being blue : 0.6964555978775024\n",
      "prob of being blue : 0.5852093696594238\n",
      "prob of being blue : 0.8245561718940735\n",
      "prob of being blue : 0.6155387163162231\n",
      "prob of being blue : 0.5097134113311768\n",
      "prob of being blue : 0.8181133270263672\n",
      "prob of being blue : 0.6074856519699097\n",
      "prob of being blue : 0.43999046087265015\n",
      "prob of being blue : 0.38296961784362793\n",
      "prob of being blue : 0.38294029235839844\n",
      "prob of being blue : 0.6035160422325134\n",
      "prob of being blue : 0.3809521496295929\n",
      "prob of being blue : 0.3976532518863678\n",
      "prob of being blue : 0.27263227105140686\n",
      "prob of being blue : 0.47943663597106934\n",
      "prob of being blue : 0.46491771936416626\n",
      "prob of being blue : 0.6758580207824707\n"
     ]
    },
    {
     "data": {
      "image/png": "[encoded data removed]",
      "text/plain": [
       "<Figure size 400x400 with 1 Axes>"
      ]
     },
     "metadata": {},
     "output_type": "display_data"
    }
   ],
   "source": [
    "# red = torch.randn((50,2)) + 3\n",
    "blue = torch.randn((50,2))\n",
    "inp_test = torch.stack((blue[:,0],blue[:,1]))\n",
    "plt.figure(figsize =(4,4))\n",
    "plt.scatter(inp_test[0],inp_test[1])\n",
    "logits = W @ inp_test\n",
    "counts = logits.exp()\n",
    "prob = counts/counts.sum(0,keepdim = True)\n",
    "\n",
    "for i in range(len(prob[0])): \n",
    "    print(f'prob of being blue : {prob[0][i]}')\n",
    "    # print(f'prob of being red : {prob[1][i]}')"
   ]
  }
 ],
 "metadata": {
  "kernelspec": {
   "display_name": "Python 3 (ipykernel)",
   "language": "python",
   "name": "python3"
  },
  "language_info": {
   "codemirror_mode": {
    "name": "ipython",
    "version": 3
   },
   "file_extension": ".py",
   "mimetype": "text/x-python",
   "name": "python",
   "nbconvert_exporter": "python",
   "pygments_lexer": "ipython3",
   "version": "3.11.2"
  }
 },
 "nbformat": 4,
 "nbformat_minor": 5
}
