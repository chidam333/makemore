{
 "cells": [
  {
   "cell_type": "code",
   "execution_count": 1,
   "id": "f03622a6-9d23-437d-8608-8fde9792b22a",
   "metadata": {},
   "outputs": [],
   "source": [
    "import torch\n",
    "import matplotlib.pyplot as plt\n",
    "import torch.nn.functional as F\n",
    "%matplotlib inline\n",
    "\n",
    "words = open(\"60knames.csv\",'r').read().splitlines()[1:] # col name removed\n",
    "# words = open(\"names.txt\",'r').read().splitlines()\n",
    "words = [word for word in words if not any(char in word for char in ['/','\"',',','-',\".\",\"/\",\";\",'±','Ã'])]\n",
    "\n",
    "stoi = {c:i+1 for i,c in enumerate(sorted(set(\"\".join(words))))}\n",
    "stoi['.'] = 0\n",
    "itos = {v:k for k,v in stoi.items()}\n",
    "\n",
    "context_size = 3\n",
    "inp = []\n",
    "out = []\n",
    "\n",
    "for word in words:\n",
    "    context = context_size * '.'\n",
    "    for ch in word + '.':\n",
    "        int_inp = [stoi[ch] for ch in context]\n",
    "        inp.append(int_inp)\n",
    "        out.append(stoi[ch])\n",
    "        # print(f'{context} -> {ch}')\n",
    "        context = context[1:] + ch\n",
    "# print(inp, out)\n",
    "\n",
    "inp = torch.tensor(inp)\n",
    "out = torch.tensor(out)\n",
    "\n",
    "# inp.shape, out.shape, itos"
   ]
  },
  {
   "cell_type": "code",
   "execution_count": 2,
   "id": "dc323eaf-6ea6-4839-93a0-dfca52e0dd7e",
   "metadata": {
    "tags": []
   },
   "outputs": [
    {
     "name": "stdout",
     "output_type": "stream",
     "text": [
      "torch.Size([27, 2]) torch.Size([545276, 3])\n"
     ]
    },
    {
     "data": {
      "text/plain": [
       "(torch.Size([545276, 3, 2]),\n",
       " torch.Size([545276, 6]),\n",
       " tensor([[-0.9095,  0.5782,  0.8243,  ..., -0.6878,  0.1295,  0.9889],\n",
       "         [-0.9889,  0.9608,  0.9988,  ...,  0.9638,  0.7905,  0.8400],\n",
       "         [-0.9968, -0.8177,  1.0000,  ...,  0.9754,  0.9431, -0.3990],\n",
       "         ...,\n",
       "         [ 0.8689, -0.9999,  0.6473,  ..., -0.9399, -0.9737, -0.9988],\n",
       "         [ 1.0000, -0.1347,  0.2265,  ..., -0.6924, -0.9658, -0.9838],\n",
       "         [ 0.9997, -0.9998, -1.0000,  ..., -0.9999, -0.9946, -0.9828]]))"
      ]
     },
     "execution_count": 2,
     "metadata": {},
     "output_type": "execute_result"
    }
   ],
   "source": [
    "g = torch.Generator().manual_seed(16)\n",
    "C = torch.randn((27,2),generator = g)\n",
    "\n",
    "print(C.shape, inp.shape)\n",
    "emb = C[inp]\n",
    "\n",
    "# emb_squeze = torch.cat((emb[:,0,:],emb[:,1,:],emb[:,2,:]),1)\n",
    "# emb_squeze = torch.cat(torch.unbind(emb,1),1)\n",
    "emb_squeze = emb.view(-1,6)\n",
    "\n",
    "\n",
    "W = torch.randn((6,100),generator = g)\n",
    "b = torch.randn((100),generator = g)\n",
    "h = torch.tanh(emb_squeze @ W + b)\n",
    "emb.shape, emb_squeze.shape, h"
   ]
  },
  {
   "cell_type": "code",
   "execution_count": 3,
   "id": "18d39c77-b492-4e74-86b8-190b2f070389",
   "metadata": {
    "tags": []
   },
   "outputs": [
    {
     "data": {
      "text/plain": [
       "tensor(18.3917)"
      ]
     },
     "execution_count": 3,
     "metadata": {},
     "output_type": "execute_result"
    }
   ],
   "source": [
    "g = torch.Generator().manual_seed(16)\n",
    "W2 = torch.randn((100,27),generator = g)\n",
    "b2 = torch.randn((27),generator = g)\n",
    "\n",
    "logits = h @ W2 + b2\n",
    "\n",
    "# counts = logits.exp()\n",
    "# p_counts = counts/counts.sum(1,keepdim= True)\n",
    "# loss = -p_counts[torch.arange(5),out].log().mean()\n",
    "\n",
    "loss = F.cross_entropy(logits,out)\n",
    "loss"
   ]
  },
  {
   "cell_type": "code",
   "execution_count": 4,
   "id": "2b3276a7-af29-4b01-9742-8f5c56358582",
   "metadata": {},
   "outputs": [],
   "source": [
    "g = torch.Generator().manual_seed(16)\n",
    "C = torch.randn((27,2),generator = g)\n",
    "\n",
    "\n",
    "W = torch.randn((6,100),generator = g)\n",
    "b = torch.randn((100),generator = g)\n",
    "W2 = torch.randn((100,27),generator = g)\n",
    "b2 = torch.randn((27),generator = g)\n",
    "\n",
    "param = [W,b,W2,b2]\n",
    "\n",
    "for p in param:\n",
    "    p.requires_grad = True"
   ]
  },
  {
   "cell_type": "code",
   "execution_count": 5,
   "id": "72a2539c-3d84-4679-b13e-c63b016cf805",
   "metadata": {
    "tags": []
   },
   "outputs": [],
   "source": [
    "lre = torch.linspace(-3,0,1000)\n",
    "lrs = 10 ** lre"
   ]
  },
  {
   "cell_type": "code",
   "execution_count": 6,
   "id": "e53efb4f-83c2-40ca-9b90-3be04fa733e7",
   "metadata": {
    "tags": []
   },
   "outputs": [
    {
     "data": {
      "text/plain": [
       "3427"
      ]
     },
     "execution_count": 6,
     "metadata": {},
     "output_type": "execute_result"
    }
   ],
   "source": [
    "sum(p.nelement() for p in param)"
   ]
  },
  {
   "cell_type": "code",
   "execution_count": 7,
   "id": "a02da367-70f7-4ee1-bf0d-0322b692b000",
   "metadata": {
    "tags": []
   },
   "outputs": [],
   "source": [
    "lri = []\n",
    "lossi =[]\n",
    "for i in range(10000):\n",
    "    ix = torch.randint(0,len(inp),(32,))\n",
    "    emb = C[inp[ix]]\n",
    "    h = torch.tanh(emb.view(-1,6) @ W + b)\n",
    "    logits = h @ W2 + b2\n",
    "    loss = F.cross_entropy(logits,out[ix])\n",
    "    \n",
    "    for p in param:\n",
    "        p.grad = None\n",
    "        \n",
    "    loss.backward()\n",
    "    # lr = lrs[i]\n",
    "    \n",
    "    for p in param:\n",
    "        # p.data += -lr * p.grad\n",
    "        p.data += -.1 * p.grad\n",
    "    # lri.append(lre[i])\n",
    "    lossi.append(loss.item())\n",
    "    # print(loss.item())\n",
    "# print(lossi[-1])"
   ]
  },
  {
   "cell_type": "code",
   "execution_count": 8,
   "id": "328cba71-75a6-4d31-acb7-fc33bdf2af4b",
   "metadata": {
    "tags": []
   },
   "outputs": [
    {
     "data": {
      "text/plain": [
       "2.6019694805145264"
      ]
     },
     "execution_count": 8,
     "metadata": {},
     "output_type": "execute_result"
    },
    {
     "data": {
      "image/png": "[encoded data removed]",
      "text/plain": [
       "<Figure size 640x480 with 1 Axes>"
      ]
     },
     "metadata": {},
     "output_type": "display_data"
    }
   ],
   "source": [
    "# plt.figure(figsize=(6,6))\n",
    "plt.plot(list(range(1,10000)),lossi[1:])\n",
    "lossi[-1]"
   ]
  },
  {
   "cell_type": "code",
   "execution_count": 9,
   "id": "7b704ca8-7d95-4095-baf9-2b7eb0e6d220",
   "metadata": {
    "tags": []
   },
   "outputs": [
    {
     "name": "stdout",
     "output_type": "stream",
     "text": [
      "EAR.\n",
      "MRUAPAN.\n",
      "XHRIYA.\n",
      "MITHIKASHBMAAMI.\n",
      "VISRYUL.\n",
      "VIVIDDSIVANA.\n",
      "NALPA.\n",
      "JASTMYHA.\n",
      "SI.\n",
      "TRIVAN.\n",
      "SUDESH.\n",
      "ROSHAESH.\n",
      "YRANAYLOVAN.\n",
      "DATI.\n",
      "DI.\n",
      ".\n",
      "PRAR.\n",
      "RMARAN.\n",
      "JHRI.\n",
      "VIPR.\n"
     ]
    }
   ],
   "source": [
    "g = torch.Generator().manual_seed(16)\n",
    "for i in range(20):\n",
    "    output = []\n",
    "    context = [0,0,0]\n",
    "    while True:\n",
    "        emb = C[torch.tensor([context])]\n",
    "        h = torch.tanh(emb.view(1,-1) @ W + b)\n",
    "        logits = h @ W2 + b2\n",
    "        probs = F.softmax(logits,dim=1)\n",
    "        ix = torch.multinomial(probs,num_samples = 1, generator = g).item()\n",
    "        context = context[1:] + [ix]\n",
    "        output.append(ix)\n",
    "        if ix==0:\n",
    "            break\n",
    "    print(\"\".join(itos[ch] for ch in output))"
   ]
  }
 ],
 "metadata": {
  "kernelspec": {
   "display_name": "Python 3 (ipykernel)",
   "language": "python",
   "name": "python3"
  },
  "language_info": {
   "codemirror_mode": {
    "name": "ipython",
    "version": 3
   },
   "file_extension": ".py",
   "mimetype": "text/x-python",
   "name": "python",
   "nbconvert_exporter": "python",
   "pygments_lexer": "ipython3",
   "version": "3.11.2"
  }
 },
 "nbformat": 4,
 "nbformat_minor": 5
}
