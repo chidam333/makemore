{
 "cells": [
  {
   "cell_type": "code",
   "execution_count": 1,
   "id": "eecf2cc1-9beb-4ab9-b512-fe3969cad35f",
   "metadata": {
    "tags": []
   },
   "outputs": [
    {
     "ename": "NameError",
     "evalue": "name 'x_val' is not defined",
     "output_type": "error",
     "traceback": [
      "\u001b[1;31m---------------------------------------------------------------------------\u001b[0m",
      "\u001b[1;31mNameError\u001b[0m                                 Traceback (most recent call last)",
      "Cell \u001b[1;32mIn[1], line 9\u001b[0m\n\u001b[0;32m      7\u001b[0m red \u001b[38;5;241m=\u001b[39m torch\u001b[38;5;241m.\u001b[39mrandn((\u001b[38;5;241m50\u001b[39m,\u001b[38;5;241m2\u001b[39m)) \u001b[38;5;241m+\u001b[39m \u001b[38;5;241m3\u001b[39m\n\u001b[0;32m      8\u001b[0m blue \u001b[38;5;241m=\u001b[39m torch\u001b[38;5;241m.\u001b[39mrandn((\u001b[38;5;241m50\u001b[39m,\u001b[38;5;241m2\u001b[39m))\n\u001b[1;32m----> 9\u001b[0m \u001b[43mx_val\u001b[49m[:\u001b[38;5;241m10\u001b[39m], y_val[:\u001b[38;5;241m10\u001b[39m]\n\u001b[0;32m     10\u001b[0m plt\u001b[38;5;241m.\u001b[39mfigure(figsize \u001b[38;5;241m=\u001b[39m (\u001b[38;5;241m4\u001b[39m,\u001b[38;5;241m4\u001b[39m))\n\u001b[0;32m     11\u001b[0m plt\u001b[38;5;241m.\u001b[39mscatter(red[:,\u001b[38;5;241m0\u001b[39m],red[:,\u001b[38;5;241m1\u001b[39m],c\u001b[38;5;241m=\u001b[39m\u001b[38;5;124m\"\u001b[39m\u001b[38;5;124mred\u001b[39m\u001b[38;5;124m\"\u001b[39m)\n",
      "\u001b[1;31mNameError\u001b[0m: name 'x_val' is not defined"
     ]
    }
   ],
   "source": [
    "# trying to make a binary classifier\n",
    "\n",
    "import torch\n",
    "import matplotlib.pyplot as plt\n",
    "import torch.nn.functional as F\n",
    "%matplotlib inline\n",
    "red = torch.randn((50,2)) + 3\n",
    "blue = torch.randn((50,2))\n",
    "x_val[:10], y_val[:10]\n",
    "plt.figure(figsize = (4,4))\n",
    "plt.scatter(red[:,0],red[:,1],c=\"red\")\n",
    "plt.scatter(blue[:,0],blue[:,1],c=\"blue\")\n",
    "\n",
    "\n",
    "inp = []\n",
    "out = []\n",
    "for i in range(50):\n",
    "    inp.extend([[red[i][0].item(),red[i][1].item()],[blue[i][0].item(),blue[i][1].item()]])\n",
    "    out.extend([1,-1])\n",
    "inp = torch.tensor(inp)\n",
    "out = torch.tensor(out)\n",
    "\n",
    "W = torch.randn((2,2),requires_grad = True)\n",
    "inp.shape"
   ]
  },
  {
   "cell_type": "code",
   "execution_count": null,
   "id": "ee93dd85-92ef-42de-bd66-f98dbb71d66e",
   "metadata": {
    "tags": []
   },
   "outputs": [],
   "source": [
    "logits = inp @ W\n",
    "# logits = torch.zeros((len(inp),2),requires_grad = True)\n",
    "# for i in range(len(inp)):\n",
    "#     logit = inp[i] @ W[i].view(1,2)\n",
    "#     logits[i] = (torch.tensor([logit[:,0].sum(),logit[:,1].sum()]))\n",
    "counts = logits.exp()\n",
    "prob = counts/counts.sum(1,keepdim = True)\n",
    "loss = -prob[torch.arange(len(inp)),out].log().mean()\n",
    "print(f'loss = {loss}')\n",
    "W.grad = None\n",
    "loss.backward()\n",
    "W.data += -.1 * W.grad\n",
    "prob[0].sum()"
   ]
  },
  {
   "cell_type": "code",
   "execution_count": null,
   "id": "d3bf2827-e59e-4eb9-9b27-a2647922823b",
   "metadata": {
    "tags": []
   },
   "outputs": [],
   "source": [
    "# red = torch.randn((50,2)) + 3\n",
    "blue = torch.randn((50,2))\n",
    "inp_test = torch.tensor(blue).float()\n",
    "logits = inp_test @ W\n",
    "counts = logits.exp()\n",
    "prob = counts/counts.sum(1,keepdim = True)\n",
    "\n",
    "for ele in prob: \n",
    "    # print(f'prob of being blue : {ele[0]}')\n",
    "    print(f'prob of being red : {ele[1]}')"
   ]
  },
  {
   "cell_type": "code",
   "execution_count": null,
   "id": "cb8644e7-aaba-439f-a348-32b9f98c4618",
   "metadata": {},
   "outputs": [],
   "source": []
  }
 ],
 "metadata": {
  "kernelspec": {
   "display_name": "Python 3 (ipykernel)",
   "language": "python",
   "name": "python3"
  },
  "language_info": {
   "codemirror_mode": {
    "name": "ipython",
    "version": 3
   },
   "file_extension": ".py",
   "mimetype": "text/x-python",
   "name": "python",
   "nbconvert_exporter": "python",
   "pygments_lexer": "ipython3",
   "version": "3.11.2"
  }
 },
 "nbformat": 4,
 "nbformat_minor": 5
}
