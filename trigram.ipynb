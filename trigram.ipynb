{
 "cells": [
  {
   "cell_type": "code",
   "execution_count": 1,
   "id": "53b5b6b6-0fc9-472d-b826-f862d0df5b69",
   "metadata": {
    "tags": []
   },
   "outputs": [],
   "source": [
    "import math\n",
    "import torch\n",
    "import torch.nn.functional as F\n",
    "import matplotlib.pyplot as plt\n",
    "%matplotlib inline\n",
    "\n",
    "words = open(\"60knames.csv\",'r').read().splitlines()[1:]\n",
    "# words = open(\"names.txt\",'r').read().splitlines()\n",
    "words = [word for word in words if not any(char in word for char in ['/','\"',',','-',\".\",\"/\",\";\",'±','Ã','\\t',' ','0','\\xa0','Â'])]\n",
    "inp = []\n",
    "out = []\n",
    "\n",
    "all_char = sorted(set(\".\".join(words)))\n",
    "stoi = {ch:i for i,ch in enumerate(all_char)}\n",
    "itos = {v:k for k,v in stoi.items()}\n",
    "\n",
    "for w in words:\n",
    "    w = '.' + w + '.'\n",
    "    for ch1,ch2 in zip(w,w[1:]):\n",
    "        inp.append(stoi[ch1])\n",
    "        out.append(stoi[ch2])\n",
    "\n",
    "inp_tri = math.ceil(0.8*len(inp))\n",
    "inp_devi = math.ceil(0.9*len(inp))\n",
    "inp_tr = torch.tensor(inp[0:inp_tri])\n",
    "out_tr = torch.tensor(out[0:inp_tri])\n",
    "inp_dev =torch.tensor(inp[inp_tri:inp_devi])\n",
    "out_dev =torch.tensor(out[inp_tri:inp_devi])\n",
    "inp_tst =torch.tensor(inp[inp_devi:])\n",
    "out_tst =torch.tensor(out[inp_devi:])\n",
    "\n",
    "\n",
    "# inp_tr[:10], stoi"
   ]
  },
  {
   "cell_type": "code",
   "execution_count": 2,
   "id": "3629fe0b-e9ef-491d-aa6f-0cd44c76d11c",
   "metadata": {
    "tags": []
   },
   "outputs": [
    {
     "data": {
      "text/plain": [
       "(torch.Size([436221, 1]), torch.Size([436221]))"
      ]
     },
     "execution_count": 2,
     "metadata": {},
     "output_type": "execute_result"
    }
   ],
   "source": [
    "\n",
    "g = torch.Generator().manual_seed(16)\n",
    "W = torch.randn((1,27),requires_grad = True)\n",
    "# emb = F.one_hot(inp_tr,num_classes = 27).float()\n",
    "emb = inp_tr.view(1,-1).t().float()\n",
    "\n",
    "emb.shape, inp_tr.shape"
   ]
  },
  {
   "cell_type": "code",
   "execution_count": 3,
   "id": "b2041ee2-5de6-47e8-bef1-b7caedf90f1c",
   "metadata": {
    "tags": []
   },
   "outputs": [],
   "source": [
    "for i in range(1000):\n",
    "    logits = emb @ W\n",
    "    loss = F.cross_entropy(logits,out_tr)\n",
    "    # print(loss)\n",
    "    W.grad = None\n",
    "    loss.backward()\n",
    "    W.data += -.1 * W.grad"
   ]
  },
  {
   "cell_type": "code",
   "execution_count": 4,
   "id": "91f98610-e47e-46d9-b5e8-a08f606db3ab",
   "metadata": {
    "tags": []
   },
   "outputs": [
    {
     "name": "stdout",
     "output_type": "stream",
     "text": [
      ".EIJAJRAZAAENATHRALAHITAZAOUABTAAMI.\n",
      ".GHARAUANAKAVADSIVAHAUANAPAEJTANAYAZASA.\n",
      ".TAIAATASADRASAYAWAPEYATARAOAYAOUACADGISADI.\n",
      "..\n",
      ".QRARAODARAZAJLRHNAFEELAOA.\n",
      ".IENAWTOAMRA.\n",
      ".AEARHGOABJAMHSNAHLJERADM.\n",
      ".LINABOASAZAIMAYSASHTADAROABCAKSATAADLUAYAALTAUAAMIIAUAYAGAUAHARHAOMDMAJOABGAJLAFOIRACMAEATRKARAVASAQAWARALAIAK.\n",
      ".F.\n",
      ".KSAEALAAEXARAAGIVAKIAP.\n",
      ".ASASRAPADOAWAUAQATA.\n",
      ".QHSAYAKASABIRAMBIUAEOAWABDYALACYAZAATALESIAMIUALNOALEYANHNAKH.\n",
      ".J.\n",
      ".ZAMA.\n",
      ".MAYAVAHVAEVAIUAKTOAQNAACHRMACLDWAJALAQHALAANACRAHGSASAUAOHNAVABSAIHTAXAJIETARAANAGYAXAMOAID.\n",
      ".RAYTADAFEHVAKTATAVAXAKKGKTAHINAP.\n",
      ".HAYAEUACLAOAYAYUAGHYAM.\n",
      ".OIJPARAZAXADTAMAGOAKGUAL.\n",
      ".HKRHAQAVAHHTIPAUA.\n",
      ".TAUAZAHHHAYAWAJHAKAMAVAGRDP.\n"
     ]
    }
   ],
   "source": [
    "for _ in range(20):\n",
    "    xi = 0\n",
    "    out = '.'\n",
    "    while True:\n",
    "        # logits = F.one_hot(torch.tensor([xi]),num_classes = 27).float() @ W\n",
    "        logits = torch.tensor([xi]).float() @ W\n",
    "        logits = logits.view(1,-1)\n",
    "        # print(logits.shape)\n",
    "        prob = F.softmax(logits,dim=1)\n",
    "        xi = torch.multinomial(prob, num_samples = 1, replacement = True,generator = g)\n",
    "        out += itos[xi.item()]\n",
    "        if(xi == 0):\n",
    "            break\n",
    "    print(out)"
   ]
  },
  {
   "cell_type": "code",
   "execution_count": 5,
   "id": "6c0a1527-b781-4d92-a884-61fcf2e3e11c",
   "metadata": {
    "tags": []
   },
   "outputs": [],
   "source": [
    "# import math\n",
    "# import torch\n",
    "# import torch.nn.functional as F\n",
    "# import matplotlib.pyplot as plt\n",
    "# %matplotlib inline\n",
    "\n",
    "# words = open(\"names.txt\",'r').read().splitlines()\n",
    "# inp = []\n",
    "# out = []\n",
    "\n",
    "# all_char = sorted(set(\".\".join(words)))\n",
    "# stoi = {ch:i for i,ch in enumerate(all_char)}\n",
    "# itos = {v:k for k,v in stoi.items()}\n",
    "\n",
    "# clen = 2\n",
    "# for w in words:\n",
    "#     context = '.' * clen\n",
    "#     w =  w + '.'\n",
    "#     for cur_ch in w:\n",
    "#         cur_inp = [stoi[ch] for ch in context]\n",
    "#         inp.append(cur_inp)\n",
    "#         out.append(stoi[cur_ch])\n",
    "#         context = context[1:] + cur_ch\n",
    "    \n",
    "# inp_tri = math.ceil(0.8*len(inp))\n",
    "# inp_devi = math.ceil(0.9*len(inp))\n",
    "# inp_tr = torch.tensor(inp[0:inp_tri])\n",
    "# out_tr = torch.tensor(out[0:inp_tri])\n",
    "# inp_dev =torch.tensor(inp[inp_tri:inp_devi])\n",
    "# out_dev =torch.tensor(out[inp_tri:inp_devi])\n",
    "# inp_tst =torch.tensor(inp[inp_devi:])\n",
    "# out_tst =torch.tensor(out[inp_devi:])"
   ]
  }
 ],
 "metadata": {
  "kernelspec": {
   "display_name": "Python 3 (ipykernel)",
   "language": "python",
   "name": "python3"
  },
  "language_info": {
   "codemirror_mode": {
    "name": "ipython",
    "version": 3
   },
   "file_extension": ".py",
   "mimetype": "text/x-python",
   "name": "python",
   "nbconvert_exporter": "python",
   "pygments_lexer": "ipython3",
   "version": "3.11.2"
  }
 },
 "nbformat": 4,
 "nbformat_minor": 5
}
